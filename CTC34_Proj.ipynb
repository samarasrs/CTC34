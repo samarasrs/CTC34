{
  "nbformat": 4,
  "nbformat_minor": 0,
  "metadata": {
    "colab": {
      "name": "CTC34_Proj.ipynb",
      "provenance": [],
      "authorship_tag": "ABX9TyPow+lMeBm+74ovx/OVoGWW",
      "include_colab_link": true
    },
    "kernelspec": {
      "name": "python3",
      "display_name": "Python 3"
    },
    "language_info": {
      "name": "python"
    }
  },
  "cells": [
    {
      "cell_type": "markdown",
      "metadata": {
        "id": "view-in-github",
        "colab_type": "text"
      },
      "source": [
        "<a href=\"https://colab.research.google.com/github/samarasrs/CTC34/blob/main/CTC34_Proj.ipynb\" target=\"_parent\"><img src=\"https://colab.research.google.com/assets/colab-badge.svg\" alt=\"Open In Colab\"/></a>"
      ]
    },
    {
      "cell_type": "code",
      "metadata": {
        "id": "_NKWzgBrgMwX"
      },
      "source": [
        ""
      ],
      "execution_count": null,
      "outputs": []
    },
    {
      "cell_type": "markdown",
      "metadata": {
        "id": "Lzm3D3a9lhF8"
      },
      "source": [
        "# <center>**Projeto CTC-34**</center>\n",
        "## <center>Evolução Gramatical</center>\n",
        "\n",
        "Autores: \n",
        "\n",
        "*   Carlos Renato de Andrande Figueiredo;\n",
        "*   Matheus da Silva Martins; e\n",
        "*   Samara Ribeiro Silva.\n",
        "\n",
        "---"
      ]
    },
    {
      "cell_type": "markdown",
      "metadata": {
        "id": "MSvSygcywNH3"
      },
      "source": [
        "A CONSTANTE PODE ASSUMIR UM ÚNICO VALOR? PODERIA TER FEITO UMA GRAMÁTICA DE DÍGITOS. TB NÃO ENTENDI PQ A OPERAÇÃO COM CONSTANTE TEM QUE SER PARENTIZADA."
      ]
    },
    {
      "cell_type": "markdown",
      "metadata": {
        "id": "HsH83T8Oloed"
      },
      "source": [
        "## Gramática utilizada\n",
        "\n",
        "&nbsp;&nbsp;&nbsp;&nbsp;&nbsp;&nbsp;&nbsp;&nbsp;&nbsp;&nbsp;&nbsp;&nbsp;\n",
        "Especificar a gramática livre de contexto utilizada, com os componentes G=(V,$\\Sigma$,P,S).\n",
        "\n",
        "V = {< exp >, < op >, < pre_op >, < var >, < const >}\n",
        "\n",
        "$\\Sigma$ = { Log, Sqrt, +, -, *, /, x1, x2, x3, x4, x5, x6, x7, x8, const,() }\n",
        "\n",
        "S = { < exp > }\n",
        "\n",
        "P = { < exp > ::= < exp > < op > < exp > <br>\n",
        "&nbsp;&nbsp;&nbsp;&nbsp;&nbsp;&nbsp;&nbsp;&nbsp;&nbsp;&nbsp;&nbsp;&nbsp;&nbsp;&nbsp;&nbsp;&nbsp;&nbsp;&nbsp;&nbsp;&nbsp;&nbsp;&nbsp;&nbsp;&nbsp;&nbsp;&nbsp;| ( < exp > < op > < const > )<br>\n",
        "&nbsp;&nbsp;&nbsp;&nbsp;&nbsp;&nbsp;&nbsp;&nbsp;&nbsp;&nbsp;&nbsp;&nbsp;&nbsp;&nbsp;&nbsp;&nbsp;&nbsp;&nbsp;&nbsp;&nbsp;&nbsp;&nbsp;&nbsp;&nbsp;&nbsp;&nbsp;|  < pre_op > ( < exp > ) <br>\n",
        "&nbsp;&nbsp;&nbsp;&nbsp;&nbsp;&nbsp;&nbsp;&nbsp;&nbsp;&nbsp;&nbsp;&nbsp;&nbsp;&nbsp;&nbsp;&nbsp;&nbsp;&nbsp;&nbsp;&nbsp;&nbsp;&nbsp;&nbsp;&nbsp;&nbsp;&nbsp;|  < var >  <br><br>\n",
        "&nbsp;&nbsp;&nbsp;&nbsp;&nbsp;&nbsp;&nbsp;&nbsp; < op >::= + <br>\n",
        "&nbsp;&nbsp;&nbsp;&nbsp;&nbsp;&nbsp;&nbsp;&nbsp;&nbsp;&nbsp;&nbsp;&nbsp;&nbsp;&nbsp;&nbsp;&nbsp;&nbsp;&nbsp;&nbsp;&nbsp;&nbsp;&nbsp;&nbsp;| - <br>\n",
        "&nbsp;&nbsp;&nbsp;&nbsp;&nbsp;&nbsp;&nbsp;&nbsp;&nbsp;&nbsp;&nbsp;&nbsp;&nbsp;&nbsp;&nbsp;&nbsp;&nbsp;&nbsp;&nbsp;&nbsp;&nbsp;&nbsp;&nbsp;| *<br>\n",
        "&nbsp;&nbsp;&nbsp;&nbsp;&nbsp;&nbsp;&nbsp;&nbsp;&nbsp;&nbsp;&nbsp;&nbsp;&nbsp;&nbsp;&nbsp;&nbsp;&nbsp;&nbsp;&nbsp;&nbsp;&nbsp;&nbsp;&nbsp;| /<br><br>\n",
        "&nbsp;&nbsp;&nbsp;&nbsp;&nbsp;&nbsp;&nbsp;&nbsp; < pre_op >::= Log <br>\n",
        "&nbsp;&nbsp;&nbsp;&nbsp;&nbsp;&nbsp;&nbsp;&nbsp;&nbsp;&nbsp;&nbsp;&nbsp;&nbsp;&nbsp;&nbsp;&nbsp;&nbsp;&nbsp;&nbsp;&nbsp;&nbsp;&nbsp;&nbsp;&nbsp;&nbsp;&nbsp;&nbsp;&nbsp;&nbsp; | Sqrt<br><br>\n",
        "&nbsp;&nbsp;&nbsp;&nbsp;&nbsp;&nbsp;&nbsp;&nbsp; < var >::= x1 | x2 | x3 | x4 | x5 | x6 | x7 | x8 <br><br>\n",
        "&nbsp;&nbsp;&nbsp;&nbsp;&nbsp;&nbsp;&nbsp;&nbsp; < const >::= c\n",
        "\n",
        "---"
      ]
    },
    {
      "cell_type": "markdown",
      "metadata": {
        "id": "hEyhsIpjmCKz"
      },
      "source": [
        "## Códigos Desenvolvidos\n",
        "\n",
        "Apresentar os códigos desenvolvidos no projeto"
      ]
    },
    {
      "cell_type": "markdown",
      "metadata": {
        "id": "zPANl8ga_ZDy"
      },
      "source": [
        "Importando Bibliotecas"
      ]
    },
    {
      "cell_type": "code",
      "metadata": {
        "id": "ACBudbsg_Xir"
      },
      "source": [
        "# Importando Bibliotecas\n",
        "import pandas as pd\n",
        "import math as m\n",
        "import random as r\n",
        "from statistics import mean\n",
        "import numpy as np\n"
      ],
      "execution_count": null,
      "outputs": []
    },
    {
      "cell_type": "markdown",
      "metadata": {
        "id": "rYRGbYtE_kqK"
      },
      "source": [
        "Lendo dados"
      ]
    },
    {
      "cell_type": "code",
      "metadata": {
        "id": "E984sIrHwGbI"
      },
      "source": [
        "# Lendo dados do arquivo de treinamento\n",
        "data_train = pd.read_csv(\"train.csv\", sep=',', decimal='.')\n",
        "\n",
        "# criando variáveis\n",
        "ID = data_train[\"id\"].tolist()\n",
        "\n",
        "desejado_MHV = data_train[\"median_house_value\"].tolist()\n",
        "\n",
        "x1_Train = data_train[\"median_income\"].tolist()\n",
        "x2_Train = data_train[\"housing_median_age\"].tolist()\n",
        "x3_Train = data_train[\"total_rooms\"].tolist()\n",
        "x4_Train = data_train[\"total_bedrooms\"].tolist()\n",
        "x5_Train = data_train[\"population\"].tolist()\n",
        "x6_Train = data_train[\"households\"].tolist()\n",
        "x7_Train = data_train[\"latitude\"].tolist()\n",
        "x8_Train = data_train[\"longitude\"].tolist()"
      ],
      "execution_count": null,
      "outputs": []
    },
    {
      "cell_type": "markdown",
      "metadata": {
        "id": "RyvhmNtSzXUH"
      },
      "source": [
        "Criando Funções antes de rodar o algoritmo:\n",
        "\n",
        "*   Gerando a população\n",
        "*   Realizando a derivação\n",
        "\n"
      ]
    },
    {
      "cell_type": "code",
      "metadata": {
        "id": "-e1WCwNg_zOz"
      },
      "source": [
        "# Gerando População a partir das definições de quantidade\n",
        "# de genes e cromossomos\n",
        "# O valor de cada gene varia de 0 a 256\n",
        "def generatePopulation(size_cromo, size_pop):\n",
        "  pop = []\n",
        "  for i in range(0, size_pop ):\n",
        "    cromo = []\n",
        "    for i in range(0, size_cromo):\n",
        "      cromo.append(r.randint(0,256))\n",
        "    pop.append(cromo)\n",
        "  return pop\n",
        "\n",
        "# Escolha da Regra\n",
        "def chooseRule(expre, index, cromo):\n",
        "  # const é um valor aleatorio entre 0 e 256 dividido por 10\n",
        "  if expre == \"const\":\n",
        "    if index>1:\n",
        "      aux = r.randint(0,256)/10\n",
        "    else:\n",
        "      expre = \"var\"\n",
        "      aux = rule[expre][cromo[index%len(cromo)]%len(rule[expre])]\n",
        "  else: \n",
        "    aux = rule[expre][cromo[index%len(cromo)]%len(rule[expre])]\n",
        "  return aux\n",
        "\n",
        "#Gerando uma expressao\n",
        "def makeDerivations(cromo, quant_iteracao):\n",
        "  index = 0\n",
        "  resp = \"\"\n",
        "  expre = [\"exp\"]\n",
        "  cont_parent = 0\n",
        "  while len(expre)>0 and index <quant_iteracao:\n",
        "    if (expre[0] == \"exp\" or expre[0] == \"op\" or expre[0] == \"pre_op\" or expre[0] == \"var\"or expre[0] == \"const\"):\n",
        "      aux = chooseRule(expre[0], index, cromo)\n",
        "      index= index+1\n",
        "      if expre[0] == \"exp\":\n",
        "        aux2 = list(aux)\n",
        "        expre.pop(0)\n",
        "        for i in range(len(aux2)-1,-1,-1):\n",
        "          expre.insert(0, aux2[i])\n",
        "      else:\n",
        "        resp=resp+str(aux)\n",
        "        expre.pop(0)\n",
        "    else:\n",
        "      resp=resp+expre[0]\n",
        "      if expre[0]==\"(\":\n",
        "        cont_parent = cont_parent + 1\n",
        "      elif expre[0]==\")\":\n",
        "        cont_parent = cont_parent - 1\n",
        "      expre.pop(0)\n",
        "  for i in range(0, cont_parent):\n",
        "      resp = resp +\")\"\n",
        "  return resp\n",
        "\n",
        "#Gerando lista de expressões\n",
        "def makList(pop, size_pop, quant_iteracao):\n",
        "  express_list = []\n",
        "  for i in range(0,size_pop):\n",
        "    aux = makeDerivations(pop[i], quant_iteracao)\n",
        "    express_list.append(aux)\n",
        "  return express_list"
      ],
      "execution_count": null,
      "outputs": []
    },
    {
      "cell_type": "markdown",
      "metadata": {
        "id": "Ih-ZZKNrDSfH"
      },
      "source": [
        "Calculando o erro médio quadrático"
      ]
    },
    {
      "cell_type": "code",
      "metadata": {
        "id": "13mcFpYVZyls"
      },
      "source": [
        "# Calculando o erro quadratico medio e printando na tela\n",
        "def saveExpressMSE(list_express, k):\n",
        "  mse = [] #MSE = MEAN SQUARED ERROR\n",
        "  print(\"*************************************\")\n",
        "  print(k)\n",
        "  for j in range(0, len(list_express)):\n",
        "    erro = False\n",
        "    #mostra na tela qual a iteracao que se encontra\n",
        "    if j%mostrar==0:\n",
        "      print(j, end=\" \")\n",
        "    se_ind = []\n",
        "    aux = list_express[j]\n",
        "    for i in range(0, len(data_train)):\n",
        "      x1=float(x1_Train[i])\n",
        "      x2=float(x2_Train[i])\n",
        "      x3=float(x3_Train[i])\n",
        "      x4=float(x4_Train[i])\n",
        "      x5=float(x5_Train[i])\n",
        "      x6=float(x6_Train[i])\n",
        "      x7=float(x7_Train[i])\n",
        "      x8=float(x8_Train[i])\n",
        "      desejado=float(desejado_MHV[i])\n",
        "\n",
        "      try:\n",
        "        calculated = float(eval(str(aux)))\n",
        "      except:\n",
        "        erro =True\n",
        "        calculated = 0\n",
        "\n",
        "      try:\n",
        "        se =(calculated- desejado)**2\n",
        "      except:\n",
        "        se = 999999\n",
        "\n",
        "      se_ind.append(se) \n",
        "\n",
        "    if erro:\n",
        "      mse.append(999999)\n",
        "    else:    \n",
        "      mse.append(mean(se_ind))\n",
        "  return mse\n",
        "  "
      ],
      "execution_count": null,
      "outputs": []
    },
    {
      "cell_type": "markdown",
      "metadata": {
        "id": "taziOFmfD4Bs"
      },
      "source": [
        "Criando Funções:\n",
        "\n",
        "*   Torneio\n",
        "*   Cruzamento\n",
        "*   Mutação"
      ]
    },
    {
      "cell_type": "code",
      "metadata": {
        "id": "q7WCiNHtTiwl"
      },
      "source": [
        "# Fazendo o torneio entre dois cromossomos\n",
        "def fight(mse):\n",
        "  winners = []\n",
        "  for i in range(0, len(mse)):\n",
        "    player1=r.randint(0,len(mse)-1)\n",
        "    player2=r.randint(0,len(mse)-1)\n",
        "\n",
        "    if mse[player1]<=mse[player2]:\n",
        "      winners.append(player1)\n",
        "    else:\n",
        "      winners.append(player2)\n",
        "  return winners\n",
        "        \n",
        "# Cruzamento de dois cromossomos\n",
        "def crossing(winners, pop, prob_cruz):\n",
        "  new_pop = []\n",
        "  for i in range(0, len(winners),2):\n",
        "    aux = r.random()\n",
        "    if aux < prob_cruz:\n",
        "      ponto_cruz = r.randint(1,len(pop[i])-1)\n",
        "      child1 = pop[winners[i]][0:ponto_cruz]+pop[winners[i+1]][ponto_cruz:len(pop[i])]\n",
        "      child2 = pop[winners[i+1]][0:ponto_cruz]+pop[winners[i]][ponto_cruz:len(pop[i])]\n",
        "      new_pop.append(child1)\n",
        "      new_pop.append(child2)\n",
        "    else:\n",
        "      new_pop.append(pop[i])\n",
        "      new_pop.append(pop[i+1])\n",
        "  return new_pop\n",
        "\n",
        "# Gerando Mutacoes\n",
        "def mutation(pop, prob_mut):\n",
        "  for i in range(0, len(pop)):\n",
        "    for j in range(0, len(pop[i])):\n",
        "      aux=r.random()\n",
        "      if aux < prob_mut:\n",
        "        pop[i][j]= r.randint(0,256)\n",
        "\n",
        "  return pop"
      ],
      "execution_count": null,
      "outputs": []
    },
    {
      "cell_type": "markdown",
      "metadata": {
        "id": "jhQjESZCEJeM"
      },
      "source": [
        "Função Main"
      ]
    },
    {
      "cell_type": "code",
      "metadata": {
        "id": "LbXZ5lAKn8S4"
      },
      "source": [
        "#Rodando\n",
        "def run(size_pop, size_cromo, quant_iteracao):\n",
        "  pop = generatePopulation(size_cromo, size_pop)\n",
        "  bests_mse = []\n",
        "  bests_express = []\n",
        "  for i in range(0,quant_geracoes):\n",
        "    express_list = makList(pop, size_pop, quant_iteracao)\n",
        "    mse = saveExpressMSE(express_list, i)\n",
        "    aux = min(mse)\n",
        "    bests_mse.append(aux)\n",
        "    bests_express.append(express_list[mse.index(aux)])\n",
        "    print(\"\\n\" ,i, \" - mse: \",bests_mse[i], \" - express: \", bests_express[i])\n",
        "    torneio = fight(mse)\n",
        "    pop = crossing(torneio, pop, prob_cruz)\n",
        "    pop = mutation(pop, prob_mut)\n",
        "\n",
        "  bestInd_mse = min(bests_mse)\n",
        "  bestInd_express = bests_express[bests_mse.index(bestInd_mse)]\n",
        "  print(bestInd_mse)\n",
        "  print(bestInd_express)\n",
        "  return [bestInd_mse, bestInd_express]"
      ],
      "execution_count": null,
      "outputs": []
    },
    {
      "cell_type": "markdown",
      "metadata": {
        "id": "huuV9irpEL1N"
      },
      "source": [
        "Constantes, Gramática e chamada da função Main"
      ]
    },
    {
      "cell_type": "code",
      "metadata": {
        "id": "Q57saackAW46"
      },
      "source": [
        "#Regras da Gramatica\n",
        "# expressoes: <exp> = <exp><op><exp> |\n",
        "#                     (<exp><op><const>) |\n",
        "#                     <pre_op>(<exp>)|\n",
        "#                     <var>\n",
        "#<op> = +,-,/,*\n",
        "#<pre_op> = sqrt, log\n",
        "#<var> =  x1|x2|x3|x4|x5|x6|x7|x8\n",
        "rule ={\"exp\" : [[\"exp\", \"op\", \"exp\"],\n",
        "                [\"(\",\"exp\", \"op\", \"const\",\")\"], \n",
        "                [\"pre_op\",\"(\",\"exp\",\")\"],\n",
        "                [\"var\"]\n",
        "                \n",
        "                ],\n",
        "       \n",
        "        \"op\" : [\"+\", \"-\", \"/\", \"*\"],\n",
        "       \n",
        "        \"pre_op\" : [\"m.sqrt\",\"m.log\"],\n",
        "       \n",
        "        \"var\" : [\"x1\", \"x2\", \"x3\", \"x4\", \"x5\", \"x6\", \"x7\", \"x8\"]}\n",
        "\n",
        "#Constantes\n",
        "# Quantidade de genes\n",
        "size_cromo = 25\n",
        "# Quantidade de cromossomos\n",
        "size_pop =1500\n",
        "# Limite de Iterações pra formar uma expressão\n",
        "quant_iteracao = 20\n",
        "# Probabilidade de Cruzamento\n",
        "prob_cruz = 0.8\n",
        "# Probabilidade de Mutação\n",
        "prob_mut = 0.1\n",
        "# Quantidade de Gerações\n",
        "quant_geracoes = 50\n",
        "# Quantidade de iterações para mostrar na tela\n",
        "mostrar = 50\n",
        " \n",
        "# Rodar o código  \n",
        "resp = run(size_pop, size_cromo, quant_iteracao)\n",
        "# Printando a resposta encontrada\n",
        "print(resp)"
      ],
      "execution_count": null,
      "outputs": []
    },
    {
      "cell_type": "markdown",
      "metadata": {
        "id": "FWNMPK4Yx_xy"
      },
      "source": [
        "ESSE 10.8 É O VALOR DA CONSTANTE? COMO AJUSTOU ELE?"
      ]
    },
    {
      "cell_type": "markdown",
      "metadata": {
        "id": "At6VuHubROgM"
      },
      "source": [
        "### Melhor Expressão Encontrada:\n",
        "\n",
        "&nbsp;&nbsp;&nbsp;&nbsp;&nbsp;&nbsp;&nbsp;&nbsp;&nbsp;&nbsp;&nbsp;&nbsp;\n",
        "MSE = 0.1865131837069543\n",
        "\n",
        "&nbsp;&nbsp;&nbsp;&nbsp;&nbsp;&nbsp;&nbsp;&nbsp;&nbsp;&nbsp;&nbsp;&nbsp;\n",
        "Expressão:(log(x1)+10.8)\n",
        "\n",
        "&nbsp;&nbsp;&nbsp;&nbsp;&nbsp;&nbsp;&nbsp;&nbsp;&nbsp;&nbsp;&nbsp;&nbsp;\n",
        "(x1 corresponde a \"median_income\")"
      ]
    },
    {
      "cell_type": "markdown",
      "metadata": {
        "id": "UDK-1KOBErst"
      },
      "source": [
        "Lendo dados do arquivo Test"
      ]
    },
    {
      "cell_type": "code",
      "metadata": {
        "id": "jcXHKkO7RL29"
      },
      "source": [
        "# Lendo arquivo do teste\n",
        "data_teste = pd.read_csv(\"test.csv\", sep=',', decimal='.')\n",
        "\n",
        "ID = data_teste[\"id\"].tolist()\n",
        "\n",
        "# De acordo com o melhor valor encontrado, precisamos apenas de x1:\n",
        "x1_Test = data_teste[\"median_income\"].tolist()\n"
      ],
      "execution_count": null,
      "outputs": []
    },
    {
      "cell_type": "markdown",
      "metadata": {
        "id": "JfKpr1KiEv5F"
      },
      "source": [
        "Gerando Resposta"
      ]
    },
    {
      "cell_type": "code",
      "metadata": {
        "id": "yA_Vl6ntTIno"
      },
      "source": [
        "# Gerando resposta\n",
        "resposta = []\n",
        "\n",
        "for i in range(len(x1_Test)):\n",
        "  x1=float(x1_Test[i])\n",
        "  media = (m.log(x1)+10.8)\n",
        "  resposta.append(media)\n"
      ],
      "execution_count": null,
      "outputs": []
    },
    {
      "cell_type": "markdown",
      "metadata": {
        "id": "NAmBxlsqE16c"
      },
      "source": [
        "Gravando a resposta no arquivo resultado"
      ]
    },
    {
      "cell_type": "code",
      "metadata": {
        "colab": {
          "base_uri": "https://localhost:8080/"
        },
        "id": "RLONLWXUUpqB",
        "outputId": "9c3fe874-8e90-4872-a397-901cd281599b"
      },
      "source": [
        "# Convertendo resposta para dataframe e depois export para csv\n",
        "dataframe_valores = {\n",
        "    'id': ID,\n",
        "    \"median_house_value\":resposta\n",
        "}\n",
        "\n",
        "df = pd.DataFrame(dataframe_valores, columns = ['id',\"median_house_value\"])\n",
        "\n",
        "df.to_csv(r'resultado.csv',index= False)"
      ],
      "execution_count": null,
      "outputs": [
        {
          "output_type": "stream",
          "text": [
            "         id  median_house_value\n",
            "0         4           12.530434\n",
            "1         5           12.147086\n",
            "2         8           11.937833\n",
            "3         9           11.532560\n",
            "4        10           12.105952\n",
            "...     ...                 ...\n",
            "6186  20621           12.317871\n",
            "6187  20626           12.217066\n",
            "6188  20627           11.573205\n",
            "6189  20629           11.753664\n",
            "6190  20637           11.738756\n",
            "\n",
            "[6191 rows x 2 columns]\n"
          ],
          "name": "stdout"
        }
      ]
    },
    {
      "cell_type": "markdown",
      "metadata": {
        "id": "zcQ83wUpNlyq"
      },
      "source": [
        "---"
      ]
    },
    {
      "cell_type": "markdown",
      "metadata": {
        "id": "2U-W06lBz5Bu"
      },
      "source": [
        "OK, ÓTIMO"
      ]
    },
    {
      "cell_type": "markdown",
      "metadata": {
        "id": "YEPvW5EFmNDl"
      },
      "source": [
        "## Experimentos\n",
        "\n",
        "O algoritmo foi executado diversas vezes variando o tamanho da população e a quantidade de gerações. Para a resposta final foi utilizada o tamanho da população 1500 e 50 gerações. Utilizamos também um parâmetro de quantidade de iteração da derivação de 20 para evitar que as expressões ficassem muito longas ou entrasse em looping infinito.\n",
        "\n",
        "---\n"
      ]
    },
    {
      "cell_type": "markdown",
      "metadata": {
        "id": "Jd_KWTekmbgC"
      },
      "source": [
        "## Resultados\n",
        "\n",
        "Apresentar os resultados alcançados:\n",
        "\n",
        "\n",
        "*   Qual foi a função de regressão final?\n",
        "\n",
        "&nbsp;&nbsp;&nbsp;&nbsp;&nbsp;&nbsp;&nbsp;&nbsp;&nbsp;&nbsp;&nbsp;&nbsp;Expressão:&nbsp;&nbsp; (log(x1)+10.8)\n",
        "*   Que erro médio quadrático é alcançado no conjunto de treinamento?\n",
        "\n",
        "&nbsp;&nbsp;&nbsp;&nbsp;&nbsp;&nbsp;&nbsp;&nbsp;&nbsp;&nbsp;&nbsp;&nbsp;MSE = 0.1865131837069543\n",
        "*   Que erro médio quadrático é alcançado no conjunto de teste após submissão no Kaggle?\n",
        "\n",
        "&nbsp;&nbsp;&nbsp;&nbsp;&nbsp;&nbsp;&nbsp;&nbsp;&nbsp;&nbsp;&nbsp;&nbsp;Score = 0.18546\n",
        "\n",
        "---\n"
      ]
    },
    {
      "cell_type": "markdown",
      "metadata": {
        "id": "ni_gBorLz-fT"
      },
      "source": [
        "PARABÉNS PELO TRABALHO, GOSTEI. MINHA SUGESTÃO QUANTO À CONSTANTE É FAZER A GRAMÁTICA PARA GERÁ-LA. ASSIM O PRÓPRIO ALGORITMO EVOLUTIVO ENCONTRA QUAL O MELHOR VALOR DE CONSTANTE. DÁ PARA ESCREVER A GRAMÁTICA DE OUTRAS FORMAS TAMBÉM, NA DISCIPLINA DE COMPILADORES VOCÊS PROVAVELMENTE DEVEM ESTUDAR ASSUNTOS QUE AJUDAM NESSE SENTIDO."
      ]
    },
    {
      "cell_type": "markdown",
      "metadata": {
        "id": "diP3OoB6mvLr"
      },
      "source": [
        "## Conclusão\n",
        "\n",
        "O resultado obtido foi satisfatório, portanto o algoritmo foi adequado para o problema. \n",
        "\n",
        "Para melhorar o código o valor da constante $c$ poderia ter mais casas decimais podendo assim melhorar a precissão do resultado. \n",
        "\n",
        "\n",
        "No nosso código, todas as expressões que não podiam ser calculadas utilizando a função $eval$ eram desconsideradas. Com isso, outra maneira de aperfeiçoar o código seria fazer alguma implementação que diminuísse o número de expressões inválidas de maneira mais eficiente, isso poderia ocasionar uma possível diminuição no tamanho da população necessária para encontrar uma resposta aceitável.\n",
        "\n",
        "---"
      ]
    }
  ]
}